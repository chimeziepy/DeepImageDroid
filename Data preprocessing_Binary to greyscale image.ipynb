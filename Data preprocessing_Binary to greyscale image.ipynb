{
 "cells": [
  {
   "cell_type": "code",
   "execution_count": 1,
   "id": "86d7310a",
   "metadata": {},
   "outputs": [],
   "source": [
    "import pandas as pd\n",
    "import os\n",
    "import numpy as np\n",
    "import cv2\n",
    "import matplotlib.pyplot as plt\n",
    "from concurrent.futures import ThreadPoolExecutor"
   ]
  },
  {
   "cell_type": "code",
   "execution_count": 2,
   "id": "6a0c1907",
   "metadata": {},
   "outputs": [
    {
     "name": "stdout",
     "output_type": "stream",
     "text": [
      "Grayscale images for each row have been saved in the folder: drebinGreyscale_215_dataset_S\n"
     ]
    }
   ],
   "source": [
    "# Read the dataset from the CSV file\n",
    "#df = pd.read_csv(\"NAticusdriod_1.csv\")\n",
    "#df = pd.read_csv(\"NAticusdriod_0.csv\")\n",
    "#df = pd.read_csv(\"drebin-215-dataset_B.csv\")\n",
    "#df = pd.read_csv(\"andriodHealthCheck_B.csv\")\n",
    "\n",
    "df = pd.read_csv(\"drebin-215-dataset_s.csv\")\n",
    "\n",
    "# Create a folder to save the images if it doesn't exist\n",
    "\n",
    "output_folder = 'drebinGreyscale_215_dataset_S'\n",
    "os.makedirs(output_folder, exist_ok=True)\n",
    "\n",
    "def save_image(index, data):\n",
    "    # Normalize pixel values to be in the range [0, 1]\n",
    "    normalized_data = data / 255.0\n",
    "    \n",
    "    # Resize the image to a fixed size (e.g., 64x64)\n",
    "    resized_data = cv2.resize(normalized_data, (64, 64))\n",
    "    \n",
    "    # Create a grayscale image\n",
    "    plt.imshow(resized_data, cmap='gray', interpolation='none', aspect='auto')\n",
    "    plt.axis('off')\n",
    "    \n",
    "    # Save the image to the output folder\n",
    "    filename = os.path.join(output_folder, f'row_{index}.png')\n",
    "    plt.savefig(filename, bbox_inches='tight', pad_inches=0, format='png', dpi=300)\n",
    "    plt.close()\n",
    "\n",
    "# Define a function to process a batch of rows\n",
    "def process_batch(batch):\n",
    "    for index, row in batch.iterrows():\n",
    "        row_data = row.values.reshape((1, len(row)))\n",
    "        save_image(index, row_data)\n",
    "\n",
    "# Set the number of threads based on your system's capabilities\n",
    "num_threads = 4\n",
    "\n",
    "# Split the DataFrame into batches\n",
    "batch_size = len(df) // num_threads\n",
    "df_batches = [df.iloc[i:i+batch_size] for i in range(0, len(df), batch_size)]\n",
    "\n",
    "# Use ThreadPoolExecutor for parallel processing\n",
    "with ThreadPoolExecutor(max_workers=num_threads) as executor:\n",
    "    executor.map(process_batch, df_batches)\n",
    "\n",
    "print(\"Grayscale images for each row have been saved in the folder:\", output_folder)"
   ]
  },
  {
   "cell_type": "code",
   "execution_count": 12,
   "id": "30a1b9f9",
   "metadata": {},
   "outputs": [
    {
     "name": "stdout",
     "output_type": "stream",
     "text": [
      "Skipping row 4961 due to non-numeric values.\n",
      "Grayscale images for each row have been saved in the folder: grayscale_images_andriodHealthCheck_s\n"
     ]
    }
   ],
   "source": [
    "# Read the dataset from the CSV file\n",
    "df = pd.read_csv(\"andriodHealthCheck_S.csv\", low_memory=False)\n",
    "\n",
    "# Create a folder to save the images if it doesn't exist\n",
    "output_folder = 'grayscale_images_andriodHealthCheck_s'\n",
    "os.makedirs(output_folder, exist_ok=True)\n",
    "\n",
    "def save_image(row, index, filename):\n",
    "    # Extract numeric values from the row\n",
    "    numeric_values = pd.to_numeric(row, errors='coerce')\n",
    "    \n",
    "    # Check if all values are numeric\n",
    "    if numeric_values.notnull().all():\n",
    "        # Normalize pixel values to be in the range [0, 1]\n",
    "        normalized_data = numeric_values.astype(float) / 255.0\n",
    "        \n",
    "        # Resize the image to a fixed size (e.g., 64x64)\n",
    "        resized_data = cv2.resize(normalized_data.values.reshape(1, -1), (64, 64))\n",
    "        \n",
    "        # Create a grayscale image\n",
    "        plt.imshow(resized_data, cmap='gray', interpolation='none', aspect='auto')\n",
    "        plt.axis('off')\n",
    "        \n",
    "        # Save the image to the output folder\n",
    "        plt.savefig(filename, bbox_inches='tight', pad_inches=0, format='png', dpi=300)\n",
    "        plt.close()\n",
    "    else:\n",
    "        print(f\"Skipping row {index} due to non-numeric values.\")\n",
    "\n",
    "# Process and save images for each row\n",
    "for index, row in df.iterrows():\n",
    "    save_image(row, index, os.path.join(output_folder, f'row_{index}.png'))\n",
    "\n",
    "print(\"Grayscale images for each row have been saved in the folder:\", output_folder)"
   ]
  }
 ],
 "metadata": {
  "kernelspec": {
   "display_name": "Python 3 (ipykernel)",
   "language": "python",
   "name": "python3"
  },
  "language_info": {
   "codemirror_mode": {
    "name": "ipython",
    "version": 3
   },
   "file_extension": ".py",
   "mimetype": "text/x-python",
   "name": "python",
   "nbconvert_exporter": "python",
   "pygments_lexer": "ipython3",
   "version": "3.10.9"
  }
 },
 "nbformat": 4,
 "nbformat_minor": 5
}
